{
 "cells": [
  {
   "cell_type": "code",
   "execution_count": null,
   "id": "7f7ccc75-244a-4aaf-9657-0d243b9dc112",
   "metadata": {},
   "outputs": [],
   "source": [
    "# Temperature Analysis Project\n",
    "\n",
    "# This notebook contains three parts:\n",
    "# 1. A simple Temperature Converter (C ↔ F).  \n",
    "# 2. A Basic Calculator (add, subtract, multiply, divide).  \n",
    "# 3. A Client Project: Data processing on a Kaggle dataset to calculate and analyze average temperature.  # \n",
    "\n",
    "# Dataset Used: [Daily Delhi Climate Dataset (Kaggle)](https://www.kaggle.com/datasets/sukhmandeepsinghbrar/daily-delhi-climate)  # \n"
   ]
  },
  {
   "cell_type": "code",
   "execution_count": 7,
   "id": "31eb711a-97f9-494b-85d5-3f2805e30276",
   "metadata": {},
   "outputs": [
    {
     "data": {
      "text/html": [
       "<div>\n",
       "<style scoped>\n",
       "    .dataframe tbody tr th:only-of-type {\n",
       "        vertical-align: middle;\n",
       "    }\n",
       "\n",
       "    .dataframe tbody tr th {\n",
       "        vertical-align: top;\n",
       "    }\n",
       "\n",
       "    .dataframe thead th {\n",
       "        text-align: right;\n",
       "    }\n",
       "</style>\n",
       "<table border=\"1\" class=\"dataframe\">\n",
       "  <thead>\n",
       "    <tr style=\"text-align: right;\">\n",
       "      <th></th>\n",
       "      <th>date</th>\n",
       "      <th>meantemp</th>\n",
       "      <th>humidity</th>\n",
       "      <th>wind_speed</th>\n",
       "      <th>meanpressure</th>\n",
       "    </tr>\n",
       "  </thead>\n",
       "  <tbody>\n",
       "    <tr>\n",
       "      <th>0</th>\n",
       "      <td>2013-01-01</td>\n",
       "      <td>10.000000</td>\n",
       "      <td>84.500000</td>\n",
       "      <td>0.000000</td>\n",
       "      <td>1015.666667</td>\n",
       "    </tr>\n",
       "    <tr>\n",
       "      <th>1</th>\n",
       "      <td>2013-01-02</td>\n",
       "      <td>7.400000</td>\n",
       "      <td>92.000000</td>\n",
       "      <td>2.980000</td>\n",
       "      <td>1017.800000</td>\n",
       "    </tr>\n",
       "    <tr>\n",
       "      <th>2</th>\n",
       "      <td>2013-01-03</td>\n",
       "      <td>7.166667</td>\n",
       "      <td>87.000000</td>\n",
       "      <td>4.633333</td>\n",
       "      <td>1018.666667</td>\n",
       "    </tr>\n",
       "    <tr>\n",
       "      <th>3</th>\n",
       "      <td>2013-01-04</td>\n",
       "      <td>8.666667</td>\n",
       "      <td>71.333333</td>\n",
       "      <td>1.233333</td>\n",
       "      <td>1017.166667</td>\n",
       "    </tr>\n",
       "    <tr>\n",
       "      <th>4</th>\n",
       "      <td>2013-01-05</td>\n",
       "      <td>6.000000</td>\n",
       "      <td>86.833333</td>\n",
       "      <td>3.700000</td>\n",
       "      <td>1016.500000</td>\n",
       "    </tr>\n",
       "  </tbody>\n",
       "</table>\n",
       "</div>"
      ],
      "text/plain": [
       "         date   meantemp   humidity  wind_speed  meanpressure\n",
       "0  2013-01-01  10.000000  84.500000    0.000000   1015.666667\n",
       "1  2013-01-02   7.400000  92.000000    2.980000   1017.800000\n",
       "2  2013-01-03   7.166667  87.000000    4.633333   1018.666667\n",
       "3  2013-01-04   8.666667  71.333333    1.233333   1017.166667\n",
       "4  2013-01-05   6.000000  86.833333    3.700000   1016.500000"
      ]
     },
     "execution_count": 7,
     "metadata": {},
     "output_type": "execute_result"
    }
   ],
   "source": [
    "df = pd.read_csv(\"DailyDelhiClimate.csv\")\n",
    "df.head()"
   ]
  },
  {
   "cell_type": "code",
   "execution_count": 12,
   "id": "d4b6397e-1d78-4ca4-a25a-47287add21ec",
   "metadata": {},
   "outputs": [],
   "source": [
    "import pandas as pd\n",
    "import numpy as np"
   ]
  },
  {
   "cell_type": "code",
   "execution_count": 2,
   "id": "b2eb8327-5b7b-4541-ae06-20ad76a4681e",
   "metadata": {},
   "outputs": [],
   "source": [
    "def c_to_f(c):\n",
    "    return c * 9/5 + 32\n",
    "\n",
    "def f_to_c(f):\n",
    "    return (f - 32) * 5/9"
   ]
  },
  {
   "cell_type": "code",
   "execution_count": 3,
   "id": "80a1cc39-f2d1-4c0e-961a-d498723f5697",
   "metadata": {},
   "outputs": [],
   "source": [
    "def add(a, b): return a + b\n",
    "def sub(a, b): return a - b\n",
    "def mul(a, b): return a * b\n",
    "def div(a, b):\n",
    "    return a / b if b != 0 else \"Error: Division by zero\""
   ]
  },
  {
   "cell_type": "code",
   "execution_count": 8,
   "id": "b1d1c8d6-c5ef-4838-ba5e-ae5e10008f3c",
   "metadata": {},
   "outputs": [
    {
     "data": {
      "text/plain": [
       "meantemp        0\n",
       "humidity        0\n",
       "wind_speed      0\n",
       "meanpressure    0\n",
       "dtype: int64"
      ]
     },
     "execution_count": 8,
     "metadata": {},
     "output_type": "execute_result"
    }
   ],
   "source": [
    "df['date'] = pd.to_datetime(df['date'])\n",
    "\n",
    "df.set_index('date', inplace=True)\n",
    "\n",
    "df.isnull().sum()"
   ]
  },
  {
   "cell_type": "code",
   "execution_count": 10,
   "id": "20110662-453d-4741-9244-9c29e086c2bc",
   "metadata": {},
   "outputs": [
    {
     "name": "stdout",
     "output_type": "stream",
     "text": [
      "Overall Average Temperature: 25.22\n"
     ]
    }
   ],
   "source": [
    "overall_avg = df['meantemp'].mean()\n",
    "print(\"Overall Average Temperature:\", round(overall_avg, 2))\n",
    "monthly_avg = df['meantemp'].resample('ME').mean()\n",
    "\n",
    "yearly_avg = df['meantemp'].resample('YE').mean()"
   ]
  },
  {
   "cell_type": "code",
   "execution_count": 11,
   "id": "5f747976-1c9a-4bc5-86ec-4022ce29fdde",
   "metadata": {},
   "outputs": [
    {
     "name": "stdout",
     "output_type": "stream",
     "text": [
      "Files saved as monthly_avg.csv and yearly_avg.csv\n"
     ]
    }
   ],
   "source": [
    "monthly_avg.to_csv(\"monthly_avg.csv\")\n",
    "yearly_avg.to_csv(\"yearly_avg.csv\")\n",
    "print(\"Files saved as monthly_avg.csv and yearly_avg.csv\")"
   ]
  },
  {
   "cell_type": "code",
   "execution_count": null,
   "id": "9ceeea0f-d183-477a-b4d4-069a946ab36a",
   "metadata": {},
   "outputs": [],
   "source": [
    "##  Conclusion\n",
    "#Temperature Converter & Calculator → practice of basic Python functions, input/output, and error handling.\n",
    "#Dataset Handling with Pandas → loading CSVs, converting date columns to datetime, and setting an index.\n",
    "#Resampling → changing the time frequency of data (daily → monthly → yearly) to compute averages or other stats.\n",
    "#Plotting → using matplotlib to visualize trends (monthly/yearly average temperatures).\n",
    "#Saving Results → exporting processed data (to_csv) for reuse or reporting. ##"
   ]
  }
 ],
 "metadata": {
  "kernelspec": {
   "display_name": "Python 3 (ipykernel)",
   "language": "python",
   "name": "python3"
  },
  "language_info": {
   "codemirror_mode": {
    "name": "ipython",
    "version": 3
   },
   "file_extension": ".py",
   "mimetype": "text/x-python",
   "name": "python",
   "nbconvert_exporter": "python",
   "pygments_lexer": "ipython3",
   "version": "3.13.5"
  }
 },
 "nbformat": 4,
 "nbformat_minor": 5
}
